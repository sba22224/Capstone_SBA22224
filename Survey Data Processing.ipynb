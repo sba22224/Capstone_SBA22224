{
 "cells": [
  {
   "cell_type": "markdown",
   "id": "95a1ad31",
   "metadata": {},
   "source": [
    "# Preprocessing iSarcasm dataset to extract useful data from survey"
   ]
  },
  {
   "cell_type": "markdown",
   "id": "9753a8bc",
   "metadata": {},
   "source": [
    "The purpose of this section is to preprocess the iSarcasm dataset to determine data suitable for use in the primary research survey. The goal is to extract subsets of sarcastic and non-sarcastic tweets from the d"
   ]
  },
  {
   "cell_type": "code",
   "execution_count": 16,
   "id": "0b3b40cd",
   "metadata": {},
   "outputs": [],
   "source": [
    "#Import libraries\n",
    "import pandas as pd\n",
    "import re"
   ]
  },
  {
   "cell_type": "code",
   "execution_count": 14,
   "id": "5d3656f9",
   "metadata": {
    "scrolled": true
   },
   "outputs": [
    {
     "data": {
      "text/html": [
       "<div>\n",
       "<style scoped>\n",
       "    .dataframe tbody tr th:only-of-type {\n",
       "        vertical-align: middle;\n",
       "    }\n",
       "\n",
       "    .dataframe tbody tr th {\n",
       "        vertical-align: top;\n",
       "    }\n",
       "\n",
       "    .dataframe thead th {\n",
       "        text-align: right;\n",
       "    }\n",
       "</style>\n",
       "<table border=\"1\" class=\"dataframe\">\n",
       "  <thead>\n",
       "    <tr style=\"text-align: right;\">\n",
       "      <th></th>\n",
       "      <th>Unnamed: 0</th>\n",
       "      <th>tweet</th>\n",
       "      <th>sarcastic</th>\n",
       "      <th>rephrase</th>\n",
       "      <th>sarcasm</th>\n",
       "      <th>irony</th>\n",
       "      <th>satire</th>\n",
       "      <th>understatement</th>\n",
       "      <th>overstatement</th>\n",
       "      <th>rhetorical_question</th>\n",
       "    </tr>\n",
       "  </thead>\n",
       "  <tbody>\n",
       "    <tr>\n",
       "      <th>0</th>\n",
       "      <td>0</td>\n",
       "      <td>The only thing I got from college is a caffein...</td>\n",
       "      <td>1</td>\n",
       "      <td>College is really difficult, expensive, tiring...</td>\n",
       "      <td>0.0</td>\n",
       "      <td>1.0</td>\n",
       "      <td>0.0</td>\n",
       "      <td>0.0</td>\n",
       "      <td>0.0</td>\n",
       "      <td>0.0</td>\n",
       "    </tr>\n",
       "    <tr>\n",
       "      <th>1</th>\n",
       "      <td>1</td>\n",
       "      <td>I love it when professors draw a big question ...</td>\n",
       "      <td>1</td>\n",
       "      <td>I do not like when professors don’t write out ...</td>\n",
       "      <td>1.0</td>\n",
       "      <td>0.0</td>\n",
       "      <td>0.0</td>\n",
       "      <td>0.0</td>\n",
       "      <td>0.0</td>\n",
       "      <td>0.0</td>\n",
       "    </tr>\n",
       "    <tr>\n",
       "      <th>2</th>\n",
       "      <td>2</td>\n",
       "      <td>Remember the hundred emails from companies whe...</td>\n",
       "      <td>1</td>\n",
       "      <td>I, at the bare minimum, wish companies actuall...</td>\n",
       "      <td>0.0</td>\n",
       "      <td>1.0</td>\n",
       "      <td>0.0</td>\n",
       "      <td>0.0</td>\n",
       "      <td>0.0</td>\n",
       "      <td>0.0</td>\n",
       "    </tr>\n",
       "    <tr>\n",
       "      <th>3</th>\n",
       "      <td>3</td>\n",
       "      <td>Today my pop-pop told me I was not “forced” to...</td>\n",
       "      <td>1</td>\n",
       "      <td>Today my pop-pop told me I was not \"forced\" to...</td>\n",
       "      <td>1.0</td>\n",
       "      <td>0.0</td>\n",
       "      <td>0.0</td>\n",
       "      <td>0.0</td>\n",
       "      <td>0.0</td>\n",
       "      <td>0.0</td>\n",
       "    </tr>\n",
       "    <tr>\n",
       "      <th>4</th>\n",
       "      <td>4</td>\n",
       "      <td>@VolphanCarol @littlewhitty @mysticalmanatee I...</td>\n",
       "      <td>1</td>\n",
       "      <td>I would say Ted Cruz is an asshole and doesn’t...</td>\n",
       "      <td>1.0</td>\n",
       "      <td>0.0</td>\n",
       "      <td>0.0</td>\n",
       "      <td>0.0</td>\n",
       "      <td>0.0</td>\n",
       "      <td>0.0</td>\n",
       "    </tr>\n",
       "  </tbody>\n",
       "</table>\n",
       "</div>"
      ],
      "text/plain": [
       "   Unnamed: 0                                              tweet  sarcastic  \\\n",
       "0           0  The only thing I got from college is a caffein...          1   \n",
       "1           1  I love it when professors draw a big question ...          1   \n",
       "2           2  Remember the hundred emails from companies whe...          1   \n",
       "3           3  Today my pop-pop told me I was not “forced” to...          1   \n",
       "4           4  @VolphanCarol @littlewhitty @mysticalmanatee I...          1   \n",
       "\n",
       "                                            rephrase  sarcasm  irony  satire  \\\n",
       "0  College is really difficult, expensive, tiring...      0.0    1.0     0.0   \n",
       "1  I do not like when professors don’t write out ...      1.0    0.0     0.0   \n",
       "2  I, at the bare minimum, wish companies actuall...      0.0    1.0     0.0   \n",
       "3  Today my pop-pop told me I was not \"forced\" to...      1.0    0.0     0.0   \n",
       "4  I would say Ted Cruz is an asshole and doesn’t...      1.0    0.0     0.0   \n",
       "\n",
       "   understatement  overstatement  rhetorical_question  \n",
       "0             0.0            0.0                  0.0  \n",
       "1             0.0            0.0                  0.0  \n",
       "2             0.0            0.0                  0.0  \n",
       "3             0.0            0.0                  0.0  \n",
       "4             0.0            0.0                  0.0  "
      ]
     },
     "execution_count": 14,
     "metadata": {},
     "output_type": "execute_result"
    }
   ],
   "source": [
    "#Read data in as CSV\n",
    "df = pd.read_csv('isarcasm2022.csv')\n",
    "df.head()"
   ]
  },
  {
   "cell_type": "code",
   "execution_count": 15,
   "id": "c9405993",
   "metadata": {},
   "outputs": [],
   "source": [
    "#Drop extraneous column\n",
    "df.drop(\"Unnamed: 0\", axis=1, inplace=True)"
   ]
  },
  {
   "cell_type": "markdown",
   "id": "b13ddeea",
   "metadata": {},
   "source": [
    "# Emoji containing subset"
   ]
  },
  {
   "cell_type": "code",
   "execution_count": 18,
   "id": "c839921f",
   "metadata": {},
   "outputs": [
    {
     "data": {
      "text/html": [
       "<div>\n",
       "<style scoped>\n",
       "    .dataframe tbody tr th:only-of-type {\n",
       "        vertical-align: middle;\n",
       "    }\n",
       "\n",
       "    .dataframe tbody tr th {\n",
       "        vertical-align: top;\n",
       "    }\n",
       "\n",
       "    .dataframe thead th {\n",
       "        text-align: right;\n",
       "    }\n",
       "</style>\n",
       "<table border=\"1\" class=\"dataframe\">\n",
       "  <thead>\n",
       "    <tr style=\"text-align: right;\">\n",
       "      <th></th>\n",
       "      <th>tweet</th>\n",
       "      <th>sarcastic</th>\n",
       "      <th>rephrase</th>\n",
       "      <th>sarcasm</th>\n",
       "      <th>irony</th>\n",
       "      <th>satire</th>\n",
       "      <th>understatement</th>\n",
       "      <th>overstatement</th>\n",
       "      <th>rhetorical_question</th>\n",
       "      <th>has_emoji</th>\n",
       "    </tr>\n",
       "  </thead>\n",
       "  <tbody>\n",
       "    <tr>\n",
       "      <th>1</th>\n",
       "      <td>I love it when professors draw a big question ...</td>\n",
       "      <td>1</td>\n",
       "      <td>I do not like when professors don’t write out ...</td>\n",
       "      <td>1.0</td>\n",
       "      <td>0.0</td>\n",
       "      <td>0.0</td>\n",
       "      <td>0.0</td>\n",
       "      <td>0.0</td>\n",
       "      <td>0.0</td>\n",
       "      <td>True</td>\n",
       "    </tr>\n",
       "    <tr>\n",
       "      <th>2</th>\n",
       "      <td>Remember the hundred emails from companies whe...</td>\n",
       "      <td>1</td>\n",
       "      <td>I, at the bare minimum, wish companies actuall...</td>\n",
       "      <td>0.0</td>\n",
       "      <td>1.0</td>\n",
       "      <td>0.0</td>\n",
       "      <td>0.0</td>\n",
       "      <td>0.0</td>\n",
       "      <td>0.0</td>\n",
       "      <td>True</td>\n",
       "    </tr>\n",
       "    <tr>\n",
       "      <th>3</th>\n",
       "      <td>Today my pop-pop told me I was not “forced” to...</td>\n",
       "      <td>1</td>\n",
       "      <td>Today my pop-pop told me I was not \"forced\" to...</td>\n",
       "      <td>1.0</td>\n",
       "      <td>0.0</td>\n",
       "      <td>0.0</td>\n",
       "      <td>0.0</td>\n",
       "      <td>0.0</td>\n",
       "      <td>0.0</td>\n",
       "      <td>True</td>\n",
       "    </tr>\n",
       "    <tr>\n",
       "      <th>16</th>\n",
       "      <td>My eldest is having a wild Friday night out. S...</td>\n",
       "      <td>1</td>\n",
       "      <td>My eldest is going to play bingo tonight.</td>\n",
       "      <td>1.0</td>\n",
       "      <td>1.0</td>\n",
       "      <td>0.0</td>\n",
       "      <td>0.0</td>\n",
       "      <td>0.0</td>\n",
       "      <td>0.0</td>\n",
       "      <td>True</td>\n",
       "    </tr>\n",
       "    <tr>\n",
       "      <th>24</th>\n",
       "      <td>@AsdaServiceTeam imagine your delivery being 2...</td>\n",
       "      <td>1</td>\n",
       "      <td>It's not acceptable for you to just refund my ...</td>\n",
       "      <td>1.0</td>\n",
       "      <td>0.0</td>\n",
       "      <td>0.0</td>\n",
       "      <td>0.0</td>\n",
       "      <td>0.0</td>\n",
       "      <td>0.0</td>\n",
       "      <td>True</td>\n",
       "    </tr>\n",
       "  </tbody>\n",
       "</table>\n",
       "</div>"
      ],
      "text/plain": [
       "                                                tweet  sarcastic  \\\n",
       "1   I love it when professors draw a big question ...          1   \n",
       "2   Remember the hundred emails from companies whe...          1   \n",
       "3   Today my pop-pop told me I was not “forced” to...          1   \n",
       "16  My eldest is having a wild Friday night out. S...          1   \n",
       "24  @AsdaServiceTeam imagine your delivery being 2...          1   \n",
       "\n",
       "                                             rephrase  sarcasm  irony  satire  \\\n",
       "1   I do not like when professors don’t write out ...      1.0    0.0     0.0   \n",
       "2   I, at the bare minimum, wish companies actuall...      0.0    1.0     0.0   \n",
       "3   Today my pop-pop told me I was not \"forced\" to...      1.0    0.0     0.0   \n",
       "16          My eldest is going to play bingo tonight.      1.0    1.0     0.0   \n",
       "24  It's not acceptable for you to just refund my ...      1.0    0.0     0.0   \n",
       "\n",
       "    understatement  overstatement  rhetorical_question  has_emoji  \n",
       "1              0.0            0.0                  0.0       True  \n",
       "2              0.0            0.0                  0.0       True  \n",
       "3              0.0            0.0                  0.0       True  \n",
       "16             0.0            0.0                  0.0       True  \n",
       "24             0.0            0.0                  0.0       True  "
      ]
     },
     "execution_count": 18,
     "metadata": {},
     "output_type": "execute_result"
    }
   ],
   "source": [
    "#Create subset of tweets which already contain emojis\n",
    "\n",
    "#Convert non-string values to string format\n",
    "df[\"tweet\"] = df[\"tweet\"].astype(str)\n",
    "\n",
    "#Create a regex pattern to match emojis\n",
    "emoji_pattern = re.compile(\"[\\U0001F600-\\U0001F64F\" #Emoticons\n",
    "                           \"\\U0001F300-\\U0001F5FF\"  #Symbols & pictographs\n",
    "                           \"\\U0001F680-\\U0001F6FF\"  #Transport & map symbols\n",
    "                           \"\\U0001F1E0-\\U0001F1FF\"  #Flags\n",
    "                           \"\\U00002702-\\U000027B0\"  #Dingbats\n",
    "                           \"\\U000024C2-\\U0001F251\"  #Enclosed characters\n",
    "                           \"]+\", flags=re.UNICODE)\n",
    "\n",
    "#Use the regex pattern to check if the tweet column contains emojis\n",
    "df[\"has_emoji\"] = df[\"tweet\"].apply(lambda x: bool(re.search(emoji_pattern, x)))\n",
    "\n",
    "#Extract the rows where the tweet column contains emojis\n",
    "emoji_tweets = df[df[\"has_emoji\"]]\n",
    "\n",
    "#Display subset\n",
    "emoji_tweets.head()"
   ]
  },
  {
   "cell_type": "code",
   "execution_count": 13,
   "id": "156d4004",
   "metadata": {},
   "outputs": [
    {
     "name": "stdout",
     "output_type": "stream",
     "text": [
      "Did you know? Abuse and alcoholism and depression will just ✨disappear✨ if the country is opened completely during a pandemic? #trumpisanidiot #bidenharris2020\n"
     ]
    }
   ],
   "source": [
    "#Check some of the tweets for emojis\n",
    "\n",
    "#Select a random row from the DataFrame\n",
    "random_row = emoji_tweets.sample(n=1)\n",
    "\n",
    "#Retrieve the contents of the tweets column\n",
    "random_tweet = random_row[\"tweet\"].values[0]\n",
    "\n",
    "#Print the tweet\n",
    "print(random_tweet)"
   ]
  },
  {
   "cell_type": "code",
   "execution_count": 20,
   "id": "df773614",
   "metadata": {},
   "outputs": [
    {
     "name": "stdout",
     "output_type": "stream",
     "text": [
      "True\n"
     ]
    }
   ],
   "source": [
    "#Check if all rows in the tweet column contain an emoji\n",
    "all_rows_have_emoji = emoji_tweets[\"tweet\"].str.contains(emoji_pattern).all()\n",
    "\n",
    "#Display result\n",
    "print(all_rows_have_emoji)"
   ]
  },
  {
   "cell_type": "code",
   "execution_count": 21,
   "id": "0b07db91",
   "metadata": {},
   "outputs": [
    {
     "name": "stdout",
     "output_type": "stream",
     "text": [
      "False    2902\n",
      "True      566\n",
      "Name: has_emoji, dtype: int64\n"
     ]
    }
   ],
   "source": [
    "#Determine how many tweets already contain emojis\n",
    "emoji_counts = df[\"has_emoji\"].value_counts()\n",
    "\n",
    "#Print the count\n",
    "print(emoji_counts)\n",
    "\n",
    "#I have 566 data points already containing emojis for my work"
   ]
  },
  {
   "cell_type": "code",
   "execution_count": 22,
   "id": "f7f15b10",
   "metadata": {},
   "outputs": [
    {
     "name": "stdout",
     "output_type": "stream",
     "text": [
      "0    402\n",
      "1    164\n",
      "Name: sarcastic, dtype: int64\n"
     ]
    }
   ],
   "source": [
    "#Determine how many tweets containing emojis are sarcastic/non-sarcastic\n",
    "sarcasm_counts = emoji_tweets[\"sarcastic\"].value_counts()\n",
    "\n",
    "#Print the count\n",
    "print(sarcasm_counts)\n",
    "\n",
    "#164 of the emoji containing tweets are sarcastic at present"
   ]
  },
  {
   "cell_type": "markdown",
   "id": "351eae6d",
   "metadata": {},
   "source": [
    "# No emoji subset"
   ]
  },
  {
   "cell_type": "code",
   "execution_count": 23,
   "id": "501d3cae",
   "metadata": {},
   "outputs": [
    {
     "data": {
      "text/html": [
       "<div>\n",
       "<style scoped>\n",
       "    .dataframe tbody tr th:only-of-type {\n",
       "        vertical-align: middle;\n",
       "    }\n",
       "\n",
       "    .dataframe tbody tr th {\n",
       "        vertical-align: top;\n",
       "    }\n",
       "\n",
       "    .dataframe thead th {\n",
       "        text-align: right;\n",
       "    }\n",
       "</style>\n",
       "<table border=\"1\" class=\"dataframe\">\n",
       "  <thead>\n",
       "    <tr style=\"text-align: right;\">\n",
       "      <th></th>\n",
       "      <th>tweet</th>\n",
       "      <th>sarcastic</th>\n",
       "      <th>rephrase</th>\n",
       "      <th>sarcasm</th>\n",
       "      <th>irony</th>\n",
       "      <th>satire</th>\n",
       "      <th>understatement</th>\n",
       "      <th>overstatement</th>\n",
       "      <th>rhetorical_question</th>\n",
       "      <th>has_emoji</th>\n",
       "    </tr>\n",
       "  </thead>\n",
       "  <tbody>\n",
       "    <tr>\n",
       "      <th>0</th>\n",
       "      <td>The only thing I got from college is a caffein...</td>\n",
       "      <td>1</td>\n",
       "      <td>College is really difficult, expensive, tiring...</td>\n",
       "      <td>0.0</td>\n",
       "      <td>1.0</td>\n",
       "      <td>0.0</td>\n",
       "      <td>0.0</td>\n",
       "      <td>0.0</td>\n",
       "      <td>0.0</td>\n",
       "      <td>False</td>\n",
       "    </tr>\n",
       "    <tr>\n",
       "      <th>4</th>\n",
       "      <td>@VolphanCarol @littlewhitty @mysticalmanatee I...</td>\n",
       "      <td>1</td>\n",
       "      <td>I would say Ted Cruz is an asshole and doesn’t...</td>\n",
       "      <td>1.0</td>\n",
       "      <td>0.0</td>\n",
       "      <td>0.0</td>\n",
       "      <td>0.0</td>\n",
       "      <td>0.0</td>\n",
       "      <td>0.0</td>\n",
       "      <td>False</td>\n",
       "    </tr>\n",
       "    <tr>\n",
       "      <th>5</th>\n",
       "      <td>@jimrossignol I choose to interpret it as \"XD\"...</td>\n",
       "      <td>1</td>\n",
       "      <td>It's a terrible name and the product sounds aw...</td>\n",
       "      <td>0.0</td>\n",
       "      <td>1.0</td>\n",
       "      <td>0.0</td>\n",
       "      <td>1.0</td>\n",
       "      <td>0.0</td>\n",
       "      <td>0.0</td>\n",
       "      <td>False</td>\n",
       "    </tr>\n",
       "    <tr>\n",
       "      <th>6</th>\n",
       "      <td>Why would Alexa's recipe for Yorkshire pudding...</td>\n",
       "      <td>1</td>\n",
       "      <td>Great recipe from Alexa</td>\n",
       "      <td>0.0</td>\n",
       "      <td>1.0</td>\n",
       "      <td>0.0</td>\n",
       "      <td>0.0</td>\n",
       "      <td>0.0</td>\n",
       "      <td>1.0</td>\n",
       "      <td>False</td>\n",
       "    </tr>\n",
       "    <tr>\n",
       "      <th>7</th>\n",
       "      <td>someone hit me w a horse tranquilizer istg ive...</td>\n",
       "      <td>1</td>\n",
       "      <td>Simply “I’m miserable.”</td>\n",
       "      <td>1.0</td>\n",
       "      <td>0.0</td>\n",
       "      <td>0.0</td>\n",
       "      <td>0.0</td>\n",
       "      <td>0.0</td>\n",
       "      <td>0.0</td>\n",
       "      <td>False</td>\n",
       "    </tr>\n",
       "  </tbody>\n",
       "</table>\n",
       "</div>"
      ],
      "text/plain": [
       "                                               tweet  sarcastic  \\\n",
       "0  The only thing I got from college is a caffein...          1   \n",
       "4  @VolphanCarol @littlewhitty @mysticalmanatee I...          1   \n",
       "5  @jimrossignol I choose to interpret it as \"XD\"...          1   \n",
       "6  Why would Alexa's recipe for Yorkshire pudding...          1   \n",
       "7  someone hit me w a horse tranquilizer istg ive...          1   \n",
       "\n",
       "                                            rephrase  sarcasm  irony  satire  \\\n",
       "0  College is really difficult, expensive, tiring...      0.0    1.0     0.0   \n",
       "4  I would say Ted Cruz is an asshole and doesn’t...      1.0    0.0     0.0   \n",
       "5  It's a terrible name and the product sounds aw...      0.0    1.0     0.0   \n",
       "6                            Great recipe from Alexa      0.0    1.0     0.0   \n",
       "7                            Simply “I’m miserable.”      1.0    0.0     0.0   \n",
       "\n",
       "   understatement  overstatement  rhetorical_question  has_emoji  \n",
       "0             0.0            0.0                  0.0      False  \n",
       "4             0.0            0.0                  0.0      False  \n",
       "5             1.0            0.0                  0.0      False  \n",
       "6             0.0            0.0                  1.0      False  \n",
       "7             0.0            0.0                  0.0      False  "
      ]
     },
     "execution_count": 23,
     "metadata": {},
     "output_type": "execute_result"
    }
   ],
   "source": [
    "# Create a subset of rows where \"has_emoji\" column is False\n",
    "no_emoji_tweets = df[df[\"has_emoji\"] == False].copy()\n",
    "\n",
    "# Print the subset DataFrame\n",
    "no_emoji_tweets.head()"
   ]
  },
  {
   "cell_type": "code",
   "execution_count": 24,
   "id": "9de7279a",
   "metadata": {},
   "outputs": [
    {
     "name": "stdout",
     "output_type": "stream",
     "text": [
      "I'm enjoying this @Jeopardy tournament WAY more than I expected. And I already came in at an 11. Loud claps. Jumping around my living room. #JeopardyGOAT\n"
     ]
    }
   ],
   "source": [
    "#Check some of the tweets for emojis\n",
    "\n",
    "#Select a random row from the DataFrame\n",
    "random_row = no_emoji_tweets.sample(n=1)\n",
    "\n",
    "#Retrieve the contents of the tweets column\n",
    "random_tweet = random_row[\"tweet\"].values[0]\n",
    "\n",
    "#Print the tweet\n",
    "print(random_tweet)"
   ]
  },
  {
   "cell_type": "code",
   "execution_count": 25,
   "id": "b7a37e42",
   "metadata": {},
   "outputs": [
    {
     "name": "stdout",
     "output_type": "stream",
     "text": [
      "True\n"
     ]
    }
   ],
   "source": [
    "#Verify no tweets in the subset contain emojis\n",
    "none_of_the_rows_have_emoji = not no_emoji_tweets[\"tweet\"].str.contains(emoji_pattern).any()\n",
    "\n",
    "#Display the results\n",
    "print(none_of_the_rows_have_emoji)"
   ]
  },
  {
   "cell_type": "code",
   "execution_count": 26,
   "id": "97d4b62f",
   "metadata": {},
   "outputs": [
    {
     "name": "stdout",
     "output_type": "stream",
     "text": [
      "0    2199\n",
      "1     703\n",
      "Name: sarcastic, dtype: int64\n"
     ]
    }
   ],
   "source": [
    "#Determine how many tweets not containing emojis are sarcastic/non-sarcastic\n",
    "sarcasm_counts = no_emoji_tweets[\"sarcastic\"].value_counts()\n",
    "\n",
    "#Print the count\n",
    "print(sarcasm_counts)"
   ]
  },
  {
   "cell_type": "code",
   "execution_count": 33,
   "id": "c376d3a5",
   "metadata": {},
   "outputs": [
    {
     "data": {
      "text/plain": [
       "((867, 10), (2601, 10))"
      ]
     },
     "execution_count": 33,
     "metadata": {},
     "output_type": "execute_result"
    }
   ],
   "source": [
    "#Create the subsets for the survey\n",
    "\n",
    "#Create sarcastic/ non-sarcastic tweets subsets\n",
    "sarc = df[df[\"sarcastic\"] == 1].copy()\n",
    "nonsarc = df[df[\"sarcastic\"] == 0].copy()\n",
    "\n",
    "#Check content\n",
    "sarc.shape, nonsarc.shape"
   ]
  },
  {
   "cell_type": "code",
   "execution_count": 34,
   "id": "6d4494eb",
   "metadata": {},
   "outputs": [
    {
     "data": {
      "text/plain": [
       "((703, 10), (2199, 10))"
      ]
     },
     "execution_count": 34,
     "metadata": {},
     "output_type": "execute_result"
    }
   ],
   "source": [
    "#Create subsets containing tweets w/o emojis for both\n",
    "sarc_noemo = sarc[~sarc[\"tweet\"].str.contains(emoji_pattern)].copy()\n",
    "nonsarc_noemo = nonsarc[~nonsarc[\"tweet\"].str.contains(emoji_pattern)].copy()\n",
    "\n",
    "#Check content\n",
    "sarc_noemo.shape, nonsarc_noemo.shape"
   ]
  },
  {
   "cell_type": "code",
   "execution_count": 35,
   "id": "35082b9d",
   "metadata": {},
   "outputs": [
    {
     "data": {
      "text/plain": [
       "(465, 10)"
      ]
     },
     "execution_count": 35,
     "metadata": {},
     "output_type": "execute_result"
    }
   ],
   "source": [
    "#Not all of the non-sarcatic tweets without emojis will be used for the survey- randomly select the necessary amount\n",
    "\n",
    "#Randomly sample 465 rows\n",
    "nonsarc_noemo_ss = nonsarc_noemo.sample(n=465, random_state=42)\n",
    "\n",
    "#Check content\n",
    "nonsarc_noemo_ss.shape"
   ]
  },
  {
   "cell_type": "code",
   "execution_count": 42,
   "id": "e05d3e0c",
   "metadata": {},
   "outputs": [],
   "source": [
    "#Export to CSV to input into survey\n",
    "nonsarc_noemo.to_csv('nonsarc_noemoji_surveyqs.csv', index=False)"
   ]
  },
  {
   "cell_type": "code",
   "execution_count": 43,
   "id": "901231f8",
   "metadata": {},
   "outputs": [],
   "source": [
    "#Repeat for sarcastic emojis\n",
    "sarc_noemo.to_csv('sarc_noemoji_surveyqs.csv', index=False)"
   ]
  },
  {
   "cell_type": "code",
   "execution_count": null,
   "id": "b4a617c0",
   "metadata": {},
   "outputs": [],
   "source": []
  }
 ],
 "metadata": {
  "kernelspec": {
   "display_name": "Python 3 (ipykernel)",
   "language": "python",
   "name": "python3"
  },
  "language_info": {
   "codemirror_mode": {
    "name": "ipython",
    "version": 3
   },
   "file_extension": ".py",
   "mimetype": "text/x-python",
   "name": "python",
   "nbconvert_exporter": "python",
   "pygments_lexer": "ipython3",
   "version": "3.9.12"
  }
 },
 "nbformat": 4,
 "nbformat_minor": 5
}
